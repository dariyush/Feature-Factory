{
 "cells": [
  {
   "cell_type": "markdown",
   "metadata": {},
   "source": [
    "&nbsp;\n",
    "&nbsp;\n",
    "\n",
    "# Welcome to Feature Factory for Biodegradability\n",
    "\n",
    "Feature factory is an online infrastructure that allows one to quickly prototype and test features for different machine learning problems. \n",
    "\n",
    "Before beginning to use Feature Factory, we highly recommend that you familiarize yourself with what IPython Notebook. IPython Notebook is an interactive python kernel that allows you to run code in different cells. Variables created by the code live in the IPython Notebook python kernel and can be accessed at any time, by any cell. More information can be found at http://ipython.org/notebook.html\n",
    "\n",
    "# Creating your own IPython Notebook\n",
    "\n",
    "To get started with Feature Factory, please clone the Template notebook. To do this, click \"File\"->\"Make a Copy\". This should spawn a new tab within your browser with the copied notebook. Rename the notebook to your liking and make all edits on that notebook.\n",
    "\n",
    "&nbsp;\n",
    "&nbsp;\n",
    "\n",
    "\n",
    "# Biodegradability Machine Learning Competition\n",
    "\n",
    "## Problem Statement\n",
    "\n",
    "The persistence of chemicals in the environment (or to environmental inuences) is welcome only until the time the chemicals ful\f",
    "ll their role. After that time or if they happen to be at the wrong place, the chemicals are considered pollutants.\n",
    "In this phase of chemicals' life-span we wish that the chemicals disappear as soon as possible. The most ecologically acceptable (and a very cost-e\u000b",
    "ective) way of 'disappearing' is degradation to components which are not considered pollutants (e.g. mineralization of organic compounds). Degradation in the environment can take several forms, from physical pathways (erosion, photolysis, etc.), through chemical pathways (hydrolysis, oxydation, diverse chemolises, etc.) to biological pathways (biolysis). Usually the pathways are combined and interrelated, thus making degradation even more complex.\n",
    "\n",
    "In our study we focus on biodegradation in an aqueous environment under aerobic conditions, which affects the quality of surface and groundwater.\n",
    "\n",
    "In this competition, you will be given a dataset of chemical properties measured during a study on biodegradation in an aqueous environment under aerobic conditions, in which the water/octanol partition coefficient (LOGP) value of each molecule has been used to classify them into multiple classes.\n",
    "\n",
    "You are challenged to work with this dataset and attempt to identify and derive or generate the features which would help the most in predicting the logp class of any of the molecules based on the rest of values measured.\n",
    "\n",
    "\n",
    "## Data\n",
    "\n",
    "The dataset is in a relational format, split among mutliple files. When using **commands.get_sample_dataset()** to retrieve the dataset, the files are provided as a list of *pandas.DataFrame* objects with the following columns:\n",
    "\n",
    "![Biodegradability Data Model](https://relational.fit.cvut.cz/assets/img/datasets-generated/Biodegradability.svg)"
   ]
  },
  {
   "cell_type": "markdown",
   "metadata": {},
   "source": [
    "## Step-by-Step Example\n",
    "\n",
    "Step 1: Import the feature factory infrastructure"
   ]
  },
  {
   "cell_type": "code",
   "execution_count": 1,
   "metadata": {
    "collapsed": false
   },
   "outputs": [],
   "source": [
    "from problems.biodegradability import commands"
   ]
  },
  {
   "cell_type": "markdown",
   "metadata": {},
   "source": [
    "&nbsp;\n",
    "&nbsp;\n",
    "\n",
    "Step 2: Create a username/password or login into an existing account. If you create an account and it is successful, you don't need to login - you are logged in automatically. "
   ]
  },
  {
   "cell_type": "code",
   "execution_count": 2,
   "metadata": {
    "collapsed": false
   },
   "outputs": [
    {
     "name": "stdout",
     "output_type": "stream",
     "text": [
      "user successfully created\n"
     ]
    }
   ],
   "source": [
    "commands.create_user('a_user', 'a_password')"
   ]
  },
  {
   "cell_type": "code",
   "execution_count": 2,
   "metadata": {
    "collapsed": false
   },
   "outputs": [
    {
     "name": "stdout",
     "output_type": "stream",
     "text": [
      "user successfully logged in\n"
     ]
    }
   ],
   "source": [
    "commands.login('stair_2', '')"
   ]
  },
  {
   "cell_type": "markdown",
   "metadata": {},
   "source": [
    "&nbsp;\n",
    "&nbsp;\n",
    "\n",
    "Step 3: To ensure that this notebook is mapped to your username, it is required that you execute the command below. "
   ]
  },
  {
   "cell_type": "code",
   "execution_count": 3,
   "metadata": {
    "collapsed": false
   },
   "outputs": [
    {
     "name": "stdout",
     "output_type": "stream",
     "text": [
      "Notebook Biodegradability_stair_2 successfully registered\n"
     ]
    }
   ],
   "source": [
    "commands.add_notebook('Biodegradability_stair_2')"
   ]
  },
  {
   "cell_type": "markdown",
   "metadata": {},
   "source": [
    "&nbsp;\n",
    "&nbsp;\n",
    "\n",
    "Step 4: Get a sample dataset. This will allow you to test your feature before running it on the full data in the server. Remember that the dataset as a list of [Pandas DataFrames](http://pandas.pydata.org/pandas-docs/stable/generated/pandas.DataFrame.html)."
   ]
  },
  {
   "cell_type": "code",
   "execution_count": 4,
   "metadata": {
    "collapsed": false
   },
   "outputs": [],
   "source": [
    "dataset = commands.get_sample_dataset()\n",
    "# dataset[0] <- this refers to the molecule data\n",
    "# dataset[1] <- this refers to the atom data\n",
    "# dataset[2] <- this refers to the bond data\n",
    "# dataset[3] <- this refers to the gmember data\n",
    "# dataset[4] <- this refers to the group data"
   ]
  },
  {
   "cell_type": "code",
   "execution_count": 58,
   "metadata": {
    "collapsed": false
   },
   "outputs": [
    {
     "data": {
      "text/html": [
       "<div>\n",
       "<table border=\"1\" class=\"dataframe\">\n",
       "  <thead>\n",
       "    <tr style=\"text-align: right;\">\n",
       "      <th></th>\n",
       "      <th>molecule_id</th>\n",
       "      <th>activity</th>\n",
       "      <th>mweight</th>\n",
       "      <th>activitynorm</th>\n",
       "      <th>logpnorm</th>\n",
       "      <th>mweightnorm</th>\n",
       "    </tr>\n",
       "  </thead>\n",
       "  <tbody>\n",
       "    <tr>\n",
       "      <th>0</th>\n",
       "      <td>i100_02_7i</td>\n",
       "      <td>9.618279</td>\n",
       "      <td>266.648116</td>\n",
       "      <td>0.000085</td>\n",
       "      <td>0.902916</td>\n",
       "      <td>0.641276</td>\n",
       "    </tr>\n",
       "    <tr>\n",
       "      <th>1</th>\n",
       "      <td>i100_21_0i</td>\n",
       "      <td>5.365895</td>\n",
       "      <td>246.420397</td>\n",
       "      <td>0.000076</td>\n",
       "      <td>0.545010</td>\n",
       "      <td>0.605700</td>\n",
       "    </tr>\n",
       "    <tr>\n",
       "      <th>2</th>\n",
       "      <td>i100_41_4i</td>\n",
       "      <td>2.612409</td>\n",
       "      <td>190.982452</td>\n",
       "      <td>0.000064</td>\n",
       "      <td>0.100432</td>\n",
       "      <td>0.090328</td>\n",
       "    </tr>\n",
       "    <tr>\n",
       "      <th>3</th>\n",
       "      <td>i100_42_5i</td>\n",
       "      <td>6.144340</td>\n",
       "      <td>134.751692</td>\n",
       "      <td>0.000088</td>\n",
       "      <td>0.700206</td>\n",
       "      <td>0.928509</td>\n",
       "    </tr>\n",
       "    <tr>\n",
       "      <th>4</th>\n",
       "      <td>i100_44_7i</td>\n",
       "      <td>8.570449</td>\n",
       "      <td>207.339516</td>\n",
       "      <td>0.000131</td>\n",
       "      <td>0.039574</td>\n",
       "      <td>0.659513</td>\n",
       "    </tr>\n",
       "  </tbody>\n",
       "</table>\n",
       "</div>"
      ],
      "text/plain": [
       "  molecule_id  activity     mweight  activitynorm  logpnorm  mweightnorm\n",
       "0  i100_02_7i  9.618279  266.648116      0.000085  0.902916     0.641276\n",
       "1  i100_21_0i  5.365895  246.420397      0.000076  0.545010     0.605700\n",
       "2  i100_41_4i  2.612409  190.982452      0.000064  0.100432     0.090328\n",
       "3  i100_42_5i  6.144340  134.751692      0.000088  0.700206     0.928509\n",
       "4  i100_44_7i  8.570449  207.339516      0.000131  0.039574     0.659513"
      ]
     },
     "execution_count": 58,
     "metadata": {},
     "output_type": "execute_result"
    }
   ],
   "source": [
    "dataset[0][:5]"
   ]
  },
  {
   "cell_type": "code",
   "execution_count": 6,
   "metadata": {
    "collapsed": false
   },
   "outputs": [
    {
     "data": {
      "text/html": [
       "<div>\n",
       "<table border=\"1\" class=\"dataframe\">\n",
       "  <thead>\n",
       "    <tr style=\"text-align: right;\">\n",
       "      <th></th>\n",
       "      <th>atom_id</th>\n",
       "      <th>molecule_id</th>\n",
       "      <th>type</th>\n",
       "    </tr>\n",
       "  </thead>\n",
       "  <tbody>\n",
       "    <tr>\n",
       "      <th>0</th>\n",
       "      <td>i100_02_7_10i</td>\n",
       "      <td>i94_36_0i</td>\n",
       "      <td>c</td>\n",
       "    </tr>\n",
       "    <tr>\n",
       "      <th>1</th>\n",
       "      <td>i100_02_7_10_1i</td>\n",
       "      <td>i50_32_8i</td>\n",
       "      <td>cl</td>\n",
       "    </tr>\n",
       "    <tr>\n",
       "      <th>2</th>\n",
       "      <td>i100_02_7_1i</td>\n",
       "      <td>i108_88_3i</td>\n",
       "      <td>c</td>\n",
       "    </tr>\n",
       "    <tr>\n",
       "      <th>3</th>\n",
       "      <td>i100_02_7_2i</td>\n",
       "      <td>i593_60_2i</td>\n",
       "      <td>o</td>\n",
       "    </tr>\n",
       "    <tr>\n",
       "      <th>4</th>\n",
       "      <td>i100_02_7_3i</td>\n",
       "      <td>i120_12_7i</td>\n",
       "      <td>c</td>\n",
       "    </tr>\n",
       "  </tbody>\n",
       "</table>\n",
       "</div>"
      ],
      "text/plain": [
       "           atom_id molecule_id type\n",
       "0    i100_02_7_10i   i94_36_0i    c\n",
       "1  i100_02_7_10_1i   i50_32_8i   cl\n",
       "2     i100_02_7_1i  i108_88_3i    c\n",
       "3     i100_02_7_2i  i593_60_2i    o\n",
       "4     i100_02_7_3i  i120_12_7i    c"
      ]
     },
     "execution_count": 6,
     "metadata": {},
     "output_type": "execute_result"
    }
   ],
   "source": [
    "dataset[1][:5]"
   ]
  },
  {
   "cell_type": "code",
   "execution_count": 8,
   "metadata": {
    "collapsed": false
   },
   "outputs": [
    {
     "data": {
      "text/html": [
       "<div>\n",
       "<table border=\"1\" class=\"dataframe\">\n",
       "  <thead>\n",
       "    <tr style=\"text-align: right;\">\n",
       "      <th></th>\n",
       "      <th>atom_id</th>\n",
       "      <th>atom_id2</th>\n",
       "      <th>type</th>\n",
       "    </tr>\n",
       "  </thead>\n",
       "  <tbody>\n",
       "    <tr>\n",
       "      <th>0</th>\n",
       "      <td>i111_76_2_1i</td>\n",
       "      <td>i56_55_3_10_1i</td>\n",
       "      <td>1</td>\n",
       "    </tr>\n",
       "    <tr>\n",
       "      <th>1</th>\n",
       "      <td>i510_15_6_19_1i</td>\n",
       "      <td>i95_50_1_8i</td>\n",
       "      <td>7</td>\n",
       "    </tr>\n",
       "    <tr>\n",
       "      <th>2</th>\n",
       "      <td>i119_93_7_10i</td>\n",
       "      <td>i79_01_6_2_1i</td>\n",
       "      <td>1</td>\n",
       "    </tr>\n",
       "    <tr>\n",
       "      <th>3</th>\n",
       "      <td>i96_45_7_2i</td>\n",
       "      <td>i95_95_4_4_1i</td>\n",
       "      <td>7</td>\n",
       "    </tr>\n",
       "    <tr>\n",
       "      <th>4</th>\n",
       "      <td>i842_07_9_9i</td>\n",
       "      <td>i115_07_1_3_1i</td>\n",
       "      <td>1</td>\n",
       "    </tr>\n",
       "  </tbody>\n",
       "</table>\n",
       "</div>"
      ],
      "text/plain": [
       "           atom_id        atom_id2  type\n",
       "0     i111_76_2_1i  i56_55_3_10_1i     1\n",
       "1  i510_15_6_19_1i     i95_50_1_8i     7\n",
       "2    i119_93_7_10i   i79_01_6_2_1i     1\n",
       "3      i96_45_7_2i   i95_95_4_4_1i     7\n",
       "4     i842_07_9_9i  i115_07_1_3_1i     1"
      ]
     },
     "execution_count": 8,
     "metadata": {},
     "output_type": "execute_result"
    }
   ],
   "source": [
    "dataset[2][:5]"
   ]
  },
  {
   "cell_type": "code",
   "execution_count": 10,
   "metadata": {
    "collapsed": false
   },
   "outputs": [
    {
     "data": {
      "text/html": [
       "<div>\n",
       "<table border=\"1\" class=\"dataframe\">\n",
       "  <thead>\n",
       "    <tr style=\"text-align: right;\">\n",
       "      <th></th>\n",
       "      <th>atom_id</th>\n",
       "      <th>group_id</th>\n",
       "    </tr>\n",
       "  </thead>\n",
       "  <tbody>\n",
       "    <tr>\n",
       "      <th>0</th>\n",
       "      <td>i100_21_0_9i</td>\n",
       "      <td>g972</td>\n",
       "    </tr>\n",
       "    <tr>\n",
       "      <th>1</th>\n",
       "      <td>i72_55_9_3i</td>\n",
       "      <td>g1241</td>\n",
       "    </tr>\n",
       "    <tr>\n",
       "      <th>2</th>\n",
       "      <td>i1861_32_1_1_2i</td>\n",
       "      <td>g1000</td>\n",
       "    </tr>\n",
       "    <tr>\n",
       "      <th>3</th>\n",
       "      <td>i1634_04_4_4_1i</td>\n",
       "      <td>g1549</td>\n",
       "    </tr>\n",
       "    <tr>\n",
       "      <th>4</th>\n",
       "      <td>i96_12_8_4_3i</td>\n",
       "      <td>g1014</td>\n",
       "    </tr>\n",
       "  </tbody>\n",
       "</table>\n",
       "</div>"
      ],
      "text/plain": [
       "           atom_id group_id\n",
       "0     i100_21_0_9i     g972\n",
       "1      i72_55_9_3i    g1241\n",
       "2  i1861_32_1_1_2i    g1000\n",
       "3  i1634_04_4_4_1i    g1549\n",
       "4    i96_12_8_4_3i    g1014"
      ]
     },
     "execution_count": 10,
     "metadata": {},
     "output_type": "execute_result"
    }
   ],
   "source": [
    "dataset[3][:5]"
   ]
  },
  {
   "cell_type": "code",
   "execution_count": 8,
   "metadata": {
    "collapsed": false
   },
   "outputs": [
    {
     "data": {
      "text/html": [
       "<div>\n",
       "<table border=\"1\" class=\"dataframe\">\n",
       "  <thead>\n",
       "    <tr style=\"text-align: right;\">\n",
       "      <th></th>\n",
       "      <th>group_id</th>\n",
       "      <th>type</th>\n",
       "    </tr>\n",
       "  </thead>\n",
       "  <tbody>\n",
       "    <tr>\n",
       "      <th>0</th>\n",
       "      <td>g0</td>\n",
       "      <td>sulfo</td>\n",
       "    </tr>\n",
       "    <tr>\n",
       "      <th>1</th>\n",
       "      <td>g1</td>\n",
       "      <td>sulfo</td>\n",
       "    </tr>\n",
       "    <tr>\n",
       "      <th>2</th>\n",
       "      <td>g10</td>\n",
       "      <td>nitro</td>\n",
       "    </tr>\n",
       "    <tr>\n",
       "      <th>3</th>\n",
       "      <td>g100</td>\n",
       "      <td>methyl</td>\n",
       "    </tr>\n",
       "    <tr>\n",
       "      <th>4</th>\n",
       "      <td>g1000</td>\n",
       "      <td>c2n</td>\n",
       "    </tr>\n",
       "  </tbody>\n",
       "</table>\n",
       "</div>"
      ],
      "text/plain": [
       "  group_id    type\n",
       "0       g0   sulfo\n",
       "1       g1   sulfo\n",
       "2      g10   nitro\n",
       "3     g100  methyl\n",
       "4    g1000     c2n"
      ]
     },
     "execution_count": 8,
     "metadata": {},
     "output_type": "execute_result"
    }
   ],
   "source": [
    "dataset[4][:5]"
   ]
  },
  {
   "cell_type": "code",
   "execution_count": 120,
   "metadata": {
    "collapsed": false
   },
   "outputs": [],
   "source": [
    "def Biodegradability_Feature_Extractor_stair_2(dataset):\n",
    "    \n",
    "    import pandas as pd\n",
    "    from sklearn.preprocessing import OneHotEncoder, LabelEncoder\n",
    "\n",
    "    mar = dataset[3]\n",
    "    mar = mar.merge(dataset[4], how='outer', on='group_id')\n",
    "    mar = mar.merge(dataset[2], how='outer', on='atom_id')\n",
    "    mar = mar.merge(dataset[1], how='outer', on='atom_id')\n",
    "\n",
    "    le = LabelEncoder()\n",
    "    #mar['type_y'] = le.fit_transform(mar['type_y'])\n",
    "    mar['type_y'] = mar['type_y'].fillna(0)\n",
    "    mar = mar.fillna('Nan')\n",
    "    mar['atom_id'] = le.fit_transform(mar['atom_id'])\n",
    "    mar['group_id'] = le.fit_transform(mar['group_id'])\n",
    "    mar['type_x'] = le.fit_transform(mar['type_x'])\n",
    "    mar['atom_id2'] = le.fit_transform(mar['atom_id2'])\n",
    "    mar['type'] = le.fit_transform(mar['type'])\n",
    "    \n",
    "    enc = OneHotEncoder(sparse=False)\n",
    "    mar = pd.concat([ mar['molecule_id'] , pd.DataFrame(\n",
    "                enc.fit_transform(mar.drop(['molecule_id'], axis=1).as_matrix()))], axis=1)\n",
    "    #X = mar\n",
    "    mar = mar.groupby(['molecule_id'], as_index=False).sum()\n",
    "    mar = mar.iloc[1:,:]\n",
    "    features = mar.merge(dataset[0], how='inner', on='molecule_id')\n",
    "    X = features.drop(['molecule_id'], axis=1)\n",
    "        \n",
    "    return X\n",
    "    "
   ]
  },
  {
   "cell_type": "code",
   "execution_count": 121,
   "metadata": {
    "collapsed": false
   },
   "outputs": [
    {
     "name": "stdout",
     "output_type": "stream",
     "text": [
      "Obtaining dataset\n",
      "Extracting features\n",
      "Cross validating\n"
     ]
    },
    {
     "data": {
      "text/plain": [
       "0.32523590296143928"
      ]
     },
     "execution_count": 121,
     "metadata": {},
     "output_type": "execute_result"
    }
   ],
   "source": [
    "#Biodegradability_Feature_Extractor_stair_2(dataset)\n",
    "commands.cross_validate(Biodegradability_Feature_Extractor_stair_2)"
   ]
  },
  {
   "cell_type": "markdown",
   "metadata": {},
   "source": [
    "&nbsp;\n",
    "&nbsp;\n",
    "\n",
    "Step 5: Define your feature extraction function.\n",
    "\n",
    "The name you give to the function is the name which will be used later on to register your feature extaction function and the score which it obtains.\n",
    "\n",
    "Your function should simply take in the dataset list as a parameter and output a N x M numpy matrix or pandas dataframe where N is number of molecules, one row per molecules, and M is the number of features which will be used for the prediction.\n",
    "Bear in mind that sorting is important and that, in order to properly evaluate your function score, the extracted features should preserve the order of the molecules table.\n",
    "\n",
    "Also note that, even though the system allows you to do so, any feature extraction function which makes use of the outcome column will be disqualified.\n",
    "\n",
    "**WARNING:** Your functions have to be self contained!\n",
    "\n",
    "This means that you can use helper functions or import external modules but that any import or variable definition needs to be made within the functions which use them.\n",
    "\n",
    "Cross validation is (intentionally) run in a separated process in order to make sure that this scope pattern is preserved, and will fail if the function uses anything defined somewhere else in the notebook.\n",
    "\n",
    "You might be wondering why we require this. The reason is that the code of your function might be executed and further evaluated in different environments where the variables and modules defined in your notebook will not be available."
   ]
  },
  {
   "cell_type": "code",
   "execution_count": 3,
   "metadata": {
    "collapsed": true
   },
   "outputs": [],
   "source": [
    "def example_feature(dataset):\n",
    "    return dataset[0][['mweight']]"
   ]
  },
  {
   "cell_type": "markdown",
   "metadata": {},
   "source": [
    "&nbsp;\n",
    "&nbsp;\n",
    "\n",
    "Step 6: Evaluate the score of your feature extraction function before submitting it.\n",
    "\n",
    "You can make use of the cross_validate command as many times a needed in order to have a preview of what the score of your function will be."
   ]
  },
  {
   "cell_type": "code",
   "execution_count": 123,
   "metadata": {
    "collapsed": false,
    "scrolled": false
   },
   "outputs": [
    {
     "name": "stdout",
     "output_type": "stream",
     "text": [
      "Obtaining dataset\n",
      "Extracting features\n",
      "Cross validating\n"
     ]
    },
    {
     "data": {
      "text/plain": [
       "0.32523590296143928"
      ]
     },
     "execution_count": 123,
     "metadata": {},
     "output_type": "execute_result"
    }
   ],
   "source": [
    "commands.cross_validate(Biodegradability_Feature_Extractor_stair_2)"
   ]
  },
  {
   "cell_type": "markdown",
   "metadata": {},
   "source": [
    "&nbsp;\n",
    "&nbsp;\n",
    "\n",
    "Step 7: Register your function in the system\n",
    "\n",
    "Once you are satisfied with the results, you can call the add_feature command passing your function as an argument.\n",
    "This will cross_validate the function again and store your code and your score for future analysis.\n",
    "\n",
    "Again, remember that your function code must be self contained and import or define everything it needs to be run successfully."
   ]
  },
  {
   "cell_type": "code",
   "execution_count": 124,
   "metadata": {
    "collapsed": false,
    "scrolled": true
   },
   "outputs": [
    {
     "name": "stdout",
     "output_type": "stream",
     "text": [
      "Obtaining dataset\n",
      "Extracting features\n",
      "Cross validating\n",
      "Your feature Biodegradability_Feature_Extractor_stair_2 scored 0.3252359029614393\n",
      "Feature Biodegradability_Feature_Extractor_stair_2 successfully registered\n"
     ]
    }
   ],
   "source": [
    "commands.add_feature(Biodegradability_Feature_Extractor_stair_2)"
   ]
  },
  {
   "cell_type": "markdown",
   "metadata": {},
   "source": [
    "&nbsp;\n",
    "&nbsp;\n",
    "\n",
    "Step 8: (Optional) Modify and update your function code.\n",
    "\n",
    "If you discover that your function can be improved you can add it again into the system as many times as required with the same function name.\n",
    "\n",
    "However, for improved clarity, we recommend you to use this option only to fix problems or make small improvements within a similar approach.\n",
    "\n",
    "So, in case you want start a different feature extraction strategy, we strongly recommend you to register it with a new name."
   ]
  },
  {
   "cell_type": "code",
   "execution_count": 13,
   "metadata": {
    "collapsed": false
   },
   "outputs": [
    {
     "name": "stdout",
     "output_type": "stream",
     "text": [
      "Obtaining dataset\n",
      "Extracting features\n",
      "Cross validating\n",
      "Your feature example_feature scored 0.2932986300603109\n",
      "Feature example_feature successfully registered\n"
     ]
    }
   ],
   "source": [
    "def imports():    # We need to import pandas within our functions\n",
    "    global np\n",
    "    import numpy as np\n",
    "\n",
    "def compute_log(feature):\n",
    "    \"\"\"Compute log of the given column.\"\"\"\n",
    "    return np.log(feature)\n",
    "    \n",
    "def example_feature(dataset):\n",
    "    imports()\n",
    "    \n",
    "    df = dataset[0][['mweight', 'activitynorm']].copy()\n",
    "    df['log'] = compute_log(df['mweight'])\n",
    "    return df\n",
    "\n",
    "commands.add_feature(example_feature)"
   ]
  },
  {
   "cell_type": "code",
   "execution_count": null,
   "metadata": {
    "collapsed": true
   },
   "outputs": [],
   "source": []
  }
 ],
 "metadata": {
  "kernelspec": {
   "display_name": "Python 3",
   "language": "python",
   "name": "python3"
  },
  "language_info": {
   "codemirror_mode": {
    "name": "ipython",
    "version": 3
   },
   "file_extension": ".py",
   "mimetype": "text/x-python",
   "name": "python",
   "nbconvert_exporter": "python",
   "pygments_lexer": "ipython3",
   "version": "3.5.1"
  },
  "widgets": {
   "state": {},
   "version": "1.1.1"
  }
 },
 "nbformat": 4,
 "nbformat_minor": 0
}
