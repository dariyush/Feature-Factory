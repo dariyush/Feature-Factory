{
 "cells": [
  {
   "cell_type": "markdown",
   "metadata": {},
   "source": [
    "&nbsp;\n",
    "&nbsp;\n",
    "\n",
    "# Welcome to Feature Factory for Airbnb\n",
    "\n",
    "Feature factory is an online infrastructure that allows one to quickly prototype and test features for different machine learning problems. \n",
    "\n",
    "Before beginning to use Feature Factory, we highly recommend that you familiarize yourself with what IPython Notebook. IPython Notebook is an interactive python kernel that allows you to run code in different cells. Variables created by the code live in the IPython Notebook python kernel and can be accessed at any time, by any cell. More information can be found at http://ipython.org/notebook.html\n",
    "\n",
    "# Creating your own IPython Notebook\n",
    "\n",
    "To get started with Feature Factory, please clone the Template notebook. To do this, click \"File\"->\"Make a Copy\". This should spawn a new tab within your browser with the copied notebook. Rename the notebook to your liking and make all edits on that notebook.\n",
    "\n",
    "&nbsp;\n",
    "&nbsp;\n",
    "\n",
    "\n",
    "# Airbnb Machine Learning Competition\n",
    "\n",
    "## Problem Statement\n",
    "\n",
    "Instead of waking to overlooked \"Do not disturb\" signs, Airbnb travelers find themselves rising with the birds in a whimsical treehouse, having their morning coffee on the deck of a houseboat, or cooking a shared regional breakfast with their hosts.\n",
    "\n",
    "New users on Airbnb can book a place to stay in 34,000+ cities across 190+ countries. By accurately predicting where a new user will book their first travel experience, Airbnb can share more personalized content with their community, decrease the average time to first booking, and better forecast demand.\n",
    "\n",
    "In this recruiting competition, Airbnb challenges you to predict in which country a new user will make his or her first booking. Kagglers who impress with their answer (and an explanation of how they got there) will be considered for an interview for the opportunity to join Airbnb's Data Science and Analytics team.\n",
    "\n",
    "In this competition, you are challenged to identify and derive or generate the features which would help the most in predicting in which country a new user will make his or her first booking.\n",
    "\n",
    "## Data\n",
    "\n",
    "In this challenge, you are given a list of USA users along with their demographics, web session records and some summary statistics.\n",
    "\n",
    "There are 12 possible outcomes of the destination country: 'US', 'FR', 'CA', 'GB', 'ES', 'IT', 'PT', 'NL','DE', 'AU', 'NDF' (no destination found), and 'other'. Please note that 'NDF' is different from 'other' because 'other' means there was a booking, but is to a country not included in the list, while 'NDF' means there wasn't a booking.\n",
    "\n",
    "The dataset is in a relational format, split among mutliple files. When using **commands.get_sample_dataset()** to retrieve the dataset, the files are provided as a list of *pandas.DataFrame* objects.\n",
    "\n",
    "The step-by-step example below shows this in detail.\n",
    "\n",
    "### Users Data\n",
    "\n",
    "\n",
    "The users table contains generic information about each user, such as some registration details, as well as the destination of the first booking, which is the variable to predict.\n",
    "\n",
    "| Data Fields | Definition |\n",
    "|-------------|------------|\n",
    "|id           |user id|\n",
    "|date_account_created|the date of account creation|\n",
    "|timestamp_first_active|timestamp of the first activity, note that it can be earlier than date_account_created or date_first_booking because a user can search before signing up|\n",
    "|date_first_booking|date of first booking|\n",
    "|gender||\n",
    "|age||\n",
    "|signup_method||\n",
    "|signup_flow|the page a user came to signup up from|\n",
    "|language|international language preference|\n",
    "|affiliate_channel|what kind of paid marketing|\n",
    "|affiliate_provider|where the marketing is e.g. google, craigslist, other|\n",
    "|first_affiliate_tracked|whats the first marketing the user interacted with before the signing up|\n",
    "|signup_app||\n",
    "|first_device_type||\n",
    "|first_browser||\n",
    "|country_destination|this is the target variable you are to predict|\n",
    "\n",
    "### Sessions Data\n",
    "\n",
    "The sessions data contains information about what actions the user performed on the website before making the first booking.\n",
    "\n",
    "| Data Fields | Definition |\n",
    "|-------------|------------|\n",
    "|user_id      |to be joined with the column 'id' in users table|\n",
    "|action       ||\n",
    "|action_type  ||\n",
    "|action_detail||\n",
    "|device_type  ||\n",
    "|secs_elapsed |||\n",
    "\n",
    "### Countries Data\n",
    "\n",
    "The countries table contains some information about the destination countries.\n",
    "\n",
    "|         Data Fields         | Definition |\n",
    "|-----------------------------|------------|\n",
    "|country_destination          |Two letter country code|\n",
    "|lat_destination              |country latitude|\n",
    "|lng_destination              |country longitude|\n",
    "|distance_km                  |distance from USA, in km|\n",
    "|destination_km2              |country size in km2|\n",
    "|destination_language         |country language|\n",
    "|language_levenshtein_distance|country language levenshtein distance from USA english|\n",
    "\n",
    "### Age Gender  Buckets\n",
    "\n",
    "The Age Gender Buckets table contains some demographic information broadly explaining the age distribution by genders in the destination countries.\n",
    "\n",
    "|         Data Fields         | Definition |\n",
    "|-----------------------------|------------|\n",
    "|age_bucket||\n",
    "|country_destination|Two letter country code, as in countries table|\n",
    "|gender||\n",
    "|population_in_thousands||\n",
    "|year|||\n",
    "\n",
    "\n",
    "&nbsp;\n",
    "&nbsp;\n",
    "\n",
    "## Step-by-Step Example\n",
    "\n",
    "Step 1: Import the feature factory infrastructure"
   ]
  },
  {
   "cell_type": "code",
   "execution_count": 230,
   "metadata": {
    "collapsed": false
   },
   "outputs": [],
   "source": [
    "from problems.airbnb import commands"
   ]
  },
  {
   "cell_type": "markdown",
   "metadata": {},
   "source": [
    "&nbsp;\n",
    "&nbsp;\n",
    "\n",
    "Step 2: Create a username/password or login into an existing account. If you create an account and it is successful, you don't need to login - you are logged in automatically. "
   ]
  },
  {
   "cell_type": "code",
   "execution_count": 3,
   "metadata": {
    "collapsed": false
   },
   "outputs": [
    {
     "name": "stdout",
     "output_type": "stream",
     "text": [
      "user successfully created\n"
     ]
    }
   ],
   "source": [
    "commands.create_user('vogt_r', '123456')"
   ]
  },
  {
   "cell_type": "code",
   "execution_count": 4,
   "metadata": {
    "collapsed": false
   },
   "outputs": [
    {
     "name": "stdout",
     "output_type": "stream",
     "text": [
      "user successfully logged in\n"
     ]
    }
   ],
   "source": [
    "commands.login('stair_2', '')"
   ]
  },
  {
   "cell_type": "markdown",
   "metadata": {},
   "source": [
    "&nbsp;\n",
    "&nbsp;\n",
    "\n",
    "Step 3: To ensure that this notebook is mapped to your username, it is required that you execute the command below. "
   ]
  },
  {
   "cell_type": "code",
   "execution_count": 6,
   "metadata": {
    "collapsed": false
   },
   "outputs": [
    {
     "name": "stdout",
     "output_type": "stream",
     "text": [
      "Notebook Airbnb_stair_2 successfully registered\n"
     ]
    }
   ],
   "source": [
    "commands.add_notebook('Airbnb_stair_2')"
   ]
  },
  {
   "cell_type": "markdown",
   "metadata": {},
   "source": [
    "&nbsp;\n",
    "&nbsp;\n",
    "\n",
    "Step 4: Get a sample dataset. This will allow you to test your feature before running it on the full data in the server. Remember that the dataset as a list of [Pandas DataFrames](http://pandas.pydata.org/pandas-docs/stable/generated/pandas.DataFrame.html)."
   ]
  },
  {
   "cell_type": "code",
   "execution_count": 288,
   "metadata": {
    "collapsed": false
   },
   "outputs": [],
   "source": [
    "dataset = commands.get_sample_dataset()\n",
    "# dataset[0] <- this refers to the users data\n",
    "# dataset[1] <- this refers to the sessions data\n",
    "# dataset[2] <- this refers to the country data\n",
    "# dataset[3] <- this refers to the age_gender buckets data"
   ]
  },
  {
   "cell_type": "code",
   "execution_count": 120,
   "metadata": {
    "collapsed": false
   },
   "outputs": [
    {
     "data": {
      "text/html": [
       "<div>\n",
       "<table border=\"1\" class=\"dataframe\">\n",
       "  <thead>\n",
       "    <tr style=\"text-align: right;\">\n",
       "      <th></th>\n",
       "      <th>id</th>\n",
       "      <th>date_account_created</th>\n",
       "      <th>timestamp_first_active</th>\n",
       "      <th>date_first_booking</th>\n",
       "      <th>gender</th>\n",
       "      <th>age</th>\n",
       "      <th>signup_method</th>\n",
       "      <th>signup_flow</th>\n",
       "      <th>language</th>\n",
       "      <th>affiliate_channel</th>\n",
       "      <th>affiliate_provider</th>\n",
       "      <th>first_affiliate_tracked</th>\n",
       "      <th>signup_app</th>\n",
       "      <th>first_device_type</th>\n",
       "      <th>first_browser</th>\n",
       "    </tr>\n",
       "  </thead>\n",
       "  <tbody>\n",
       "    <tr>\n",
       "      <th>0</th>\n",
       "      <td>zzit6t3cxf</td>\n",
       "      <td>2013-04-08</td>\n",
       "      <td>20130415043808</td>\n",
       "      <td>2011-04-30</td>\n",
       "      <td>MALE</td>\n",
       "      <td>652</td>\n",
       "      <td>basic</td>\n",
       "      <td>0</td>\n",
       "      <td>en</td>\n",
       "      <td>direct</td>\n",
       "      <td>direct</td>\n",
       "      <td>untracked</td>\n",
       "      <td>Web</td>\n",
       "      <td>Windows Desktop</td>\n",
       "      <td>Safari</td>\n",
       "    </tr>\n",
       "    <tr>\n",
       "      <th>1</th>\n",
       "      <td>r2w75dastn</td>\n",
       "      <td>2014-05-06</td>\n",
       "      <td>20140417205059</td>\n",
       "      <td>2016-04-01</td>\n",
       "      <td>-unknown-</td>\n",
       "      <td>NaN</td>\n",
       "      <td>facebook</td>\n",
       "      <td>0</td>\n",
       "      <td>en</td>\n",
       "      <td>direct</td>\n",
       "      <td>direct</td>\n",
       "      <td>tracked-other</td>\n",
       "      <td>Web</td>\n",
       "      <td>Mac Desktop</td>\n",
       "      <td>-unknown-</td>\n",
       "    </tr>\n",
       "    <tr>\n",
       "      <th>2</th>\n",
       "      <td>84639ygy6x</td>\n",
       "      <td>2013-02-18</td>\n",
       "      <td>20130407162512</td>\n",
       "      <td>2016-04-01</td>\n",
       "      <td>-unknown-</td>\n",
       "      <td>NaN</td>\n",
       "      <td>facebook</td>\n",
       "      <td>0</td>\n",
       "      <td>en</td>\n",
       "      <td>direct</td>\n",
       "      <td>direct</td>\n",
       "      <td>omg</td>\n",
       "      <td>Web</td>\n",
       "      <td>Windows Desktop</td>\n",
       "      <td>Chrome</td>\n",
       "    </tr>\n",
       "    <tr>\n",
       "      <th>3</th>\n",
       "      <td>la6wgwixfx</td>\n",
       "      <td>2011-09-03</td>\n",
       "      <td>20110719113904</td>\n",
       "      <td>2010-02-23</td>\n",
       "      <td>MALE</td>\n",
       "      <td>21</td>\n",
       "      <td>facebook</td>\n",
       "      <td>0</td>\n",
       "      <td>en</td>\n",
       "      <td>other</td>\n",
       "      <td>google</td>\n",
       "      <td>untracked</td>\n",
       "      <td>Web</td>\n",
       "      <td>Mac Desktop</td>\n",
       "      <td>IE</td>\n",
       "    </tr>\n",
       "    <tr>\n",
       "      <th>4</th>\n",
       "      <td>z5ma53l0w6</td>\n",
       "      <td>2011-05-10</td>\n",
       "      <td>20110518121249</td>\n",
       "      <td>2014-08-29</td>\n",
       "      <td>MALE</td>\n",
       "      <td>437</td>\n",
       "      <td>basic</td>\n",
       "      <td>0</td>\n",
       "      <td>en</td>\n",
       "      <td>sem-brand</td>\n",
       "      <td>direct</td>\n",
       "      <td>untracked</td>\n",
       "      <td>Web</td>\n",
       "      <td>Windows Desktop</td>\n",
       "      <td>-unknown-</td>\n",
       "    </tr>\n",
       "  </tbody>\n",
       "</table>\n",
       "</div>"
      ],
      "text/plain": [
       "           id date_account_created  timestamp_first_active date_first_booking  \\\n",
       "0  zzit6t3cxf           2013-04-08          20130415043808         2011-04-30   \n",
       "1  r2w75dastn           2014-05-06          20140417205059         2016-04-01   \n",
       "2  84639ygy6x           2013-02-18          20130407162512         2016-04-01   \n",
       "3  la6wgwixfx           2011-09-03          20110719113904         2010-02-23   \n",
       "4  z5ma53l0w6           2011-05-10          20110518121249         2014-08-29   \n",
       "\n",
       "      gender  age signup_method  signup_flow language affiliate_channel  \\\n",
       "0       MALE  652         basic            0       en            direct   \n",
       "1  -unknown-  NaN      facebook            0       en            direct   \n",
       "2  -unknown-  NaN      facebook            0       en            direct   \n",
       "3       MALE   21      facebook            0       en             other   \n",
       "4       MALE  437         basic            0       en         sem-brand   \n",
       "\n",
       "  affiliate_provider first_affiliate_tracked signup_app first_device_type  \\\n",
       "0             direct               untracked        Web   Windows Desktop   \n",
       "1             direct           tracked-other        Web       Mac Desktop   \n",
       "2             direct                     omg        Web   Windows Desktop   \n",
       "3             google               untracked        Web       Mac Desktop   \n",
       "4             direct               untracked        Web   Windows Desktop   \n",
       "\n",
       "  first_browser  \n",
       "0        Safari  \n",
       "1     -unknown-  \n",
       "2        Chrome  \n",
       "3            IE  \n",
       "4     -unknown-  "
      ]
     },
     "execution_count": 120,
     "metadata": {},
     "output_type": "execute_result"
    }
   ],
   "source": [
    "dataset[0][:5]"
   ]
  },
  {
   "cell_type": "code",
   "execution_count": 78,
   "metadata": {
    "collapsed": false
   },
   "outputs": [
    {
     "data": {
      "text/plain": [
       "(121583, 6)"
      ]
     },
     "execution_count": 78,
     "metadata": {},
     "output_type": "execute_result"
    }
   ],
   "source": [
    "dataset[1][:5]"
   ]
  },
  {
   "cell_type": "code",
   "execution_count": 39,
   "metadata": {
    "collapsed": false
   },
   "outputs": [
    {
     "data": {
      "text/html": [
       "<div>\n",
       "<table border=\"1\" class=\"dataframe\">\n",
       "  <thead>\n",
       "    <tr style=\"text-align: right;\">\n",
       "      <th></th>\n",
       "      <th>user_id</th>\n",
       "      <th>action</th>\n",
       "      <th>action_type</th>\n",
       "      <th>action_detail</th>\n",
       "      <th>device_type</th>\n",
       "      <th>secs_elapsed</th>\n",
       "    </tr>\n",
       "  </thead>\n",
       "  <tbody>\n",
       "    <tr>\n",
       "      <th>0</th>\n",
       "      <td>zcpon8alwq</td>\n",
       "      <td>ajax_photo_widget_form_iframe</td>\n",
       "      <td>data</td>\n",
       "      <td>your_listings</td>\n",
       "      <td>Windows Desktop</td>\n",
       "      <td>571206</td>\n",
       "    </tr>\n",
       "    <tr>\n",
       "      <th>1</th>\n",
       "      <td>brv0yjttpo</td>\n",
       "      <td>confirm_email</td>\n",
       "      <td>click</td>\n",
       "      <td>wishlist_content_update</td>\n",
       "      <td>Mac Desktop</td>\n",
       "      <td>26041</td>\n",
       "    </tr>\n",
       "    <tr>\n",
       "      <th>2</th>\n",
       "      <td>kh31an85gr</td>\n",
       "      <td>itinerary</td>\n",
       "      <td>submit</td>\n",
       "      <td>NaN</td>\n",
       "      <td>Android Phone</td>\n",
       "      <td>694910</td>\n",
       "    </tr>\n",
       "    <tr>\n",
       "      <th>3</th>\n",
       "      <td>ege0gokbz6</td>\n",
       "      <td>ajax_refresh_subtotal</td>\n",
       "      <td>message_post</td>\n",
       "      <td>login</td>\n",
       "      <td>iPodtouch</td>\n",
       "      <td>NaN</td>\n",
       "    </tr>\n",
       "    <tr>\n",
       "      <th>4</th>\n",
       "      <td>m3308cdd0h</td>\n",
       "      <td>dashboard</td>\n",
       "      <td>data</td>\n",
       "      <td>-unknown-</td>\n",
       "      <td>iPad Tablet</td>\n",
       "      <td>26486</td>\n",
       "    </tr>\n",
       "  </tbody>\n",
       "</table>\n",
       "</div>"
      ],
      "text/plain": [
       "      user_id                         action   action_type  \\\n",
       "0  zcpon8alwq  ajax_photo_widget_form_iframe          data   \n",
       "1  brv0yjttpo                  confirm_email         click   \n",
       "2  kh31an85gr                      itinerary        submit   \n",
       "3  ege0gokbz6          ajax_refresh_subtotal  message_post   \n",
       "4  m3308cdd0h                      dashboard          data   \n",
       "\n",
       "             action_detail      device_type  secs_elapsed  \n",
       "0            your_listings  Windows Desktop        571206  \n",
       "1  wishlist_content_update      Mac Desktop         26041  \n",
       "2                      NaN    Android Phone        694910  \n",
       "3                    login        iPodtouch           NaN  \n",
       "4                -unknown-      iPad Tablet         26486  "
      ]
     },
     "execution_count": 39,
     "metadata": {},
     "output_type": "execute_result"
    }
   ],
   "source": [
    "dataset[1][:5]"
   ]
  },
  {
   "cell_type": "code",
   "execution_count": 40,
   "metadata": {
    "collapsed": false
   },
   "outputs": [
    {
     "data": {
      "text/html": [
       "<div>\n",
       "<table border=\"1\" class=\"dataframe\">\n",
       "  <thead>\n",
       "    <tr style=\"text-align: right;\">\n",
       "      <th></th>\n",
       "      <th>country_destination</th>\n",
       "      <th>lat_destination</th>\n",
       "      <th>lng_destination</th>\n",
       "      <th>distance_km</th>\n",
       "      <th>destination_km2</th>\n",
       "      <th>destination_language</th>\n",
       "      <th>language_levenshtein_distance</th>\n",
       "    </tr>\n",
       "  </thead>\n",
       "  <tbody>\n",
       "    <tr>\n",
       "      <th>0</th>\n",
       "      <td>AU</td>\n",
       "      <td>-26.853388</td>\n",
       "      <td>133.275160</td>\n",
       "      <td>15297.7440</td>\n",
       "      <td>7741220</td>\n",
       "      <td>eng</td>\n",
       "      <td>0.00</td>\n",
       "    </tr>\n",
       "    <tr>\n",
       "      <th>1</th>\n",
       "      <td>CA</td>\n",
       "      <td>62.393303</td>\n",
       "      <td>-96.818146</td>\n",
       "      <td>2828.1333</td>\n",
       "      <td>9984670</td>\n",
       "      <td>eng</td>\n",
       "      <td>0.00</td>\n",
       "    </tr>\n",
       "    <tr>\n",
       "      <th>2</th>\n",
       "      <td>DE</td>\n",
       "      <td>51.165707</td>\n",
       "      <td>10.452764</td>\n",
       "      <td>7879.5680</td>\n",
       "      <td>357022</td>\n",
       "      <td>deu</td>\n",
       "      <td>72.61</td>\n",
       "    </tr>\n",
       "    <tr>\n",
       "      <th>3</th>\n",
       "      <td>ES</td>\n",
       "      <td>39.896027</td>\n",
       "      <td>-2.487694</td>\n",
       "      <td>7730.7240</td>\n",
       "      <td>505370</td>\n",
       "      <td>spa</td>\n",
       "      <td>92.25</td>\n",
       "    </tr>\n",
       "    <tr>\n",
       "      <th>4</th>\n",
       "      <td>FR</td>\n",
       "      <td>46.232193</td>\n",
       "      <td>2.209667</td>\n",
       "      <td>7682.9450</td>\n",
       "      <td>643801</td>\n",
       "      <td>fra</td>\n",
       "      <td>92.06</td>\n",
       "    </tr>\n",
       "  </tbody>\n",
       "</table>\n",
       "</div>"
      ],
      "text/plain": [
       "  country_destination  lat_destination  lng_destination  distance_km  \\\n",
       "0                  AU       -26.853388       133.275160   15297.7440   \n",
       "1                  CA        62.393303       -96.818146    2828.1333   \n",
       "2                  DE        51.165707        10.452764    7879.5680   \n",
       "3                  ES        39.896027        -2.487694    7730.7240   \n",
       "4                  FR        46.232193         2.209667    7682.9450   \n",
       "\n",
       "   destination_km2 destination_language   language_levenshtein_distance  \n",
       "0          7741220                   eng                           0.00  \n",
       "1          9984670                   eng                           0.00  \n",
       "2           357022                   deu                          72.61  \n",
       "3           505370                   spa                          92.25  \n",
       "4           643801                   fra                          92.06  "
      ]
     },
     "execution_count": 40,
     "metadata": {},
     "output_type": "execute_result"
    }
   ],
   "source": [
    "dataset[2][:5]"
   ]
  },
  {
   "cell_type": "code",
   "execution_count": 372,
   "metadata": {
    "collapsed": false,
    "scrolled": true
   },
   "outputs": [
    {
     "data": {
      "text/html": [
       "<div>\n",
       "<table border=\"1\" class=\"dataframe\">\n",
       "  <thead>\n",
       "    <tr style=\"text-align: right;\">\n",
       "      <th></th>\n",
       "      <th>age_bucket</th>\n",
       "      <th>country_destination</th>\n",
       "      <th>gender</th>\n",
       "      <th>population_in_thousands</th>\n",
       "      <th>year</th>\n",
       "    </tr>\n",
       "  </thead>\n",
       "  <tbody>\n",
       "    <tr>\n",
       "      <th>0</th>\n",
       "      <td>100+</td>\n",
       "      <td>AU</td>\n",
       "      <td>male</td>\n",
       "      <td>1</td>\n",
       "      <td>2015</td>\n",
       "    </tr>\n",
       "    <tr>\n",
       "      <th>1</th>\n",
       "      <td>95-99</td>\n",
       "      <td>AU</td>\n",
       "      <td>male</td>\n",
       "      <td>9</td>\n",
       "      <td>2015</td>\n",
       "    </tr>\n",
       "    <tr>\n",
       "      <th>2</th>\n",
       "      <td>90-94</td>\n",
       "      <td>AU</td>\n",
       "      <td>male</td>\n",
       "      <td>47</td>\n",
       "      <td>2015</td>\n",
       "    </tr>\n",
       "    <tr>\n",
       "      <th>3</th>\n",
       "      <td>85-89</td>\n",
       "      <td>AU</td>\n",
       "      <td>male</td>\n",
       "      <td>118</td>\n",
       "      <td>2015</td>\n",
       "    </tr>\n",
       "    <tr>\n",
       "      <th>4</th>\n",
       "      <td>80-84</td>\n",
       "      <td>AU</td>\n",
       "      <td>male</td>\n",
       "      <td>199</td>\n",
       "      <td>2015</td>\n",
       "    </tr>\n",
       "  </tbody>\n",
       "</table>\n",
       "</div>"
      ],
      "text/plain": [
       "  age_bucket country_destination gender  population_in_thousands  year\n",
       "0       100+                  AU   male                        1  2015\n",
       "1      95-99                  AU   male                        9  2015\n",
       "2      90-94                  AU   male                       47  2015\n",
       "3      85-89                  AU   male                      118  2015\n",
       "4      80-84                  AU   male                      199  2015"
      ]
     },
     "execution_count": 372,
     "metadata": {},
     "output_type": "execute_result"
    }
   ],
   "source": [
    "dataset[3][:5]"
   ]
  },
  {
   "cell_type": "code",
   "execution_count": 419,
   "metadata": {
    "collapsed": false
   },
   "outputs": [
    {
     "name": "stdout",
     "output_type": "stream",
     "text": [
      "Obtaining dataset\n",
      "Extracting features\n",
      "Cross validating\n"
     ]
    },
    {
     "data": {
      "text/plain": [
       "0.651795488075956"
      ]
     },
     "execution_count": 419,
     "metadata": {},
     "output_type": "execute_result"
    }
   ],
   "source": [
    "dataset = commands.get_sample_dataset()\n",
    "\n",
    "def Airbnb_Feature_Extractor_stair_2(dataset):\n",
    "    import pandas as pd\n",
    "    import numpy as np\n",
    "    from sklearn.preprocessing import OneHotEncoder, LabelEncoder\n",
    "    sessions = dataset[1]\n",
    "    sessions = sessions.drop(['secs_elapsed'],axis=1)\n",
    "    sessions = sessions.fillna('Nan')\n",
    "\n",
    "    le = LabelEncoder()\n",
    "    sessions['action'] = le.fit_transform(sessions['action'])\n",
    "    sessions['action_type'] = le.fit_transform(sessions['action_type'])\n",
    "    sessions['action_detail'] = le.fit_transform(sessions['action_detail'])\n",
    "    sessions['device_type'] = le.fit_transform(sessions['device_type'])\n",
    "    enc = OneHotEncoder(sparse=False)\n",
    "    sessions = pd.concat([ sessions['user_id'] , pd.DataFrame(\n",
    "                   enc.fit_transform(sessions.drop(['user_id'], axis=1).as_matrix()))], axis=1)\n",
    "    sessions = sessions.groupby(['user_id'], as_index=False).sum()\n",
    "    #sessions\n",
    "\n",
    "    age_gender = dataset[3]\n",
    "    age_gender = age_gender.drop(['country_destination','year'], axis=1)\n",
    "\n",
    "    airbnb = dataset[0]\n",
    "    airbnb['user_id'] = airbnb['id']\n",
    "    airbnb = airbnb.drop(['id'], axis=1)\n",
    "    airbnb['age'] = airbnb['age']/12\n",
    "    labels = [ \"{0}-{1}\".format(i, i + 4) for i in range(0, 105, 5) ]\n",
    "    labels[len(labels)-1] = '100+'\n",
    "    airbnb['age_bucket'] = pd.cut(airbnb['age'], range(0,110,5), right=False, labels=labels)\n",
    "    airbnb['age_bucket'] = airbnb['age_bucket'].fillna('100+')\n",
    "    airbnb['gender'] = airbnb['gender'].map(lambda x: x.lower())\n",
    "    airbnb = pd.merge(airbnb, age_gender, on=['age_bucket', 'gender'], how='left', sort=False);\n",
    "\n",
    "    airbnb['age_bucket'] = le.fit_transform(airbnb['age_bucket'])\n",
    "    airbnb['gender'] = le.fit_transform(airbnb['gender'])\n",
    "    airbnb['signup_method'] = le.fit_transform(airbnb['signup_method'])\n",
    "    airbnb['language'] = le.fit_transform(airbnb['language'])\n",
    "    airbnb['affiliate_channel'] = le.fit_transform(airbnb['affiliate_channel'])\n",
    "    airbnb['affiliate_provider'] = le.fit_transform(airbnb['affiliate_provider'])\n",
    "    airbnb['first_affiliate_tracked'] = airbnb['first_affiliate_tracked'].fillna('Nan')\n",
    "    airbnb['first_affiliate_tracked'] = le.fit_transform(airbnb['first_affiliate_tracked'])\n",
    "    airbnb['signup_app'] = le.fit_transform(airbnb['signup_app'])\n",
    "    airbnb['first_device_type'] = le.fit_transform(airbnb['first_device_type'])\n",
    "    airbnb['first_browser'] = le.fit_transform(airbnb['first_browser'])\n",
    "    airbnb['date_first_booking'] = pd.to_datetime(airbnb['date_first_booking'])\n",
    "    airbnb['date_account_created'] = pd.to_datetime(airbnb['date_account_created'])\n",
    "    airbnb['interval'] = (airbnb['date_first_booking'] - airbnb['date_account_created']).fillna(0)\n",
    "    airbnb['interval'] = airbnb['interval'].map(lambda x: int(x)/1e14, na_action='ignore')\n",
    "    airbnb = airbnb.drop(['date_account_created', 'date_first_booking', 'timestamp_first_active',\n",
    "                         ], axis=1)\n",
    "    airbnb = pd.concat([ airbnb[['user_id', 'interval', 'age', 'population_in_thousands']] , \n",
    "                        pd.DataFrame(enc.fit_transform(\n",
    "                    airbnb.drop(['user_id', 'interval', 'age', 'population_in_thousands'],\n",
    "                                axis=1).as_matrix()))], axis=1)\n",
    "    airbnb = airbnb.groupby(['user_id'],as_index=False, sort=False).sum()\n",
    "    airbnb = pd.merge(airbnb, sessions, how='left', on='user_id')\n",
    "    airbnb = airbnb.fillna(5)\n",
    "    airbnb = airbnb.drop(['user_id', 'age', 'population_in_thousands'], axis=1)\n",
    "    return airbnb\n",
    "\n",
    "commands.cross_validate(Airbnb_Feature_Extractor_stair_2)\n"
   ]
  },
  {
   "cell_type": "code",
   "execution_count": 420,
   "metadata": {
    "collapsed": false
   },
   "outputs": [
    {
     "name": "stdout",
     "output_type": "stream",
     "text": [
      "Obtaining dataset\n",
      "Extracting features\n",
      "Cross validating\n"
     ]
    },
    {
     "data": {
      "text/plain": [
       "0.651795488075956"
      ]
     },
     "execution_count": 420,
     "metadata": {},
     "output_type": "execute_result"
    }
   ],
   "source": [
    "commands.cross_validate(Airbnb_Feature_Extractor_stair_2)"
   ]
  },
  {
   "cell_type": "markdown",
   "metadata": {},
   "source": [
    "&nbsp;\n",
    "&nbsp;\n",
    "\n",
    "Step 5: Define your feature extraction function.\n",
    "\n",
    "The name you give to the function is the name which will be used later on to register your feature extaction function and the score which it obtains.\n",
    "\n",
    "Your function should simply take in the dataset list as a parameter and output a N x M numpy matrix or pandas dataframe where N is number of users, one row per user, and M is the number of features which will be used for the prediction.\n",
    "Bear in mind that sorting is important and that, in order to properly evaluate your function score, the extracted features should preserve the order of the user table.\n",
    "\n",
    "Also note that, even though the system allows you to do so, any feature extraction function which makes use of the outcome column will be disqualified.\n",
    "\n",
    "**WARNING:** Your functions have to be self contained!\n",
    "\n",
    "This means that you can use helper functions or import external modules but that any import or variable definition needs to be made within the functions which use them.\n",
    "\n",
    "Cross validation is (intentionally) run in a separated process in order to make sure that this scope pattern is preserved, and will fail if the function uses anything defined somewhere else in the notebook.\n",
    "\n",
    "You might be wondering why we require this. The reason is that the code of your function might be executed and further evaluated in different environments where the variables and modules defined in your notebook will not be available."
   ]
  },
  {
   "cell_type": "markdown",
   "metadata": {},
   "source": [
    "&nbsp;\n",
    "&nbsp;\n",
    "\n",
    "Step 6: Evaluate the score of your feature extraction function before submitting it.\n",
    "\n",
    "You can make use of the cross_validate command as many times a needed in order to have a preview of what the score of your function will be."
   ]
  },
  {
   "cell_type": "markdown",
   "metadata": {},
   "source": [
    "&nbsp;\n",
    "&nbsp;\n",
    "\n",
    "Step 7: Register your function in the system\n",
    "\n",
    "Once you are satisfied with the results, you can call the add_feature command passing your function as an argument.\n",
    "This will cross_validate the function again and store your code and your score for future analysis.\n",
    "\n",
    "Again, remember that your function code must be self contained and import or define everything it needs to be run successfully."
   ]
  },
  {
   "cell_type": "code",
   "execution_count": 421,
   "metadata": {
    "collapsed": false,
    "scrolled": true
   },
   "outputs": [
    {
     "name": "stdout",
     "output_type": "stream",
     "text": [
      "Obtaining dataset\n",
      "Extracting features\n",
      "Cross validating\n",
      "Your feature Airbnb_Feature_Extractor_stair_2 scored 0.651795488075956\n",
      "Feature Airbnb_Feature_Extractor_stair_2 successfully registered\n"
     ]
    }
   ],
   "source": [
    "commands.add_feature(Airbnb_Feature_Extractor_stair_2)"
   ]
  },
  {
   "cell_type": "markdown",
   "metadata": {},
   "source": [
    "&nbsp;\n",
    "&nbsp;\n",
    "\n",
    "Step 8: (Optional) Modify and update your function code.\n",
    "\n",
    "If you discover that your function can be improved you can add it again into the system as many times as required with the same function name.\n",
    "\n",
    "However, for improved clarity, we recommend you to use this option only to fix problems or make small improvements within a similar approach.\n",
    "\n",
    "So, in case you want start a different feature extraction strategy, we strongly recommend you to register it with a new name."
   ]
  },
  {
   "cell_type": "code",
   "execution_count": 13,
   "metadata": {
    "collapsed": false
   },
   "outputs": [
    {
     "name": "stdout",
     "output_type": "stream",
     "text": [
      "Obtaining dataset\n",
      "Extracting features\n",
      "Cross validating\n",
      "Your feature example_feature scored 0.5459996079176286\n",
      "Feature example_feature successfully registered\n"
     ]
    }
   ],
   "source": [
    "def imports():    # We need to import pandas within our functions\n",
    "    global pd\n",
    "    import pandas as pd\n",
    "\n",
    "def one_hot(feature):\n",
    "    \"\"\"Perform one-hot-encoding to a feature column.\"\"\"\n",
    "    return pd.get_dummies(feature)\n",
    "    \n",
    "def example_feature(dataset):\n",
    "    \"\"\"Return a dataset containing only some of the features.\"\"\"\n",
    "    imports()\n",
    "    \n",
    "    age = dataset[0][['age']].fillna(0)\n",
    "    signup = one_hot(dataset[0]['signup_method'])\n",
    "    return pd.concat([age, signup], axis=1)\n",
    "\n",
    "\n",
    "commands.add_feature(example_feature)"
   ]
  },
  {
   "cell_type": "code",
   "execution_count": null,
   "metadata": {
    "collapsed": true
   },
   "outputs": [],
   "source": []
  }
 ],
 "metadata": {
  "kernelspec": {
   "display_name": "Python 3",
   "language": "python",
   "name": "python3"
  },
  "language_info": {
   "codemirror_mode": {
    "name": "ipython",
    "version": 3
   },
   "file_extension": ".py",
   "mimetype": "text/x-python",
   "name": "python",
   "nbconvert_exporter": "python",
   "pygments_lexer": "ipython3",
   "version": "3.5.1"
  },
  "widgets": {
   "state": {},
   "version": "1.1.1"
  }
 },
 "nbformat": 4,
 "nbformat_minor": 0
}
