{
 "cells": [
  {
   "cell_type": "markdown",
   "metadata": {},
   "source": [
    "&nbsp;\n",
    "&nbsp;\n",
    "\n",
    "# Welcome to Feature Factory for Mutagenesis\n",
    "\n",
    "Feature factory is an online infrastructure that allows one to quickly prototype and test features for different machine learning problems. \n",
    "\n",
    "Before beginning to use Feature Factory, we highly recommend that you familiarize yourself with what IPython Notebook. IPython Notebook is an interactive python kernel that allows you to run code in different cells. Variables created by the code live in the IPython Notebook python kernel and can be accessed at any time, by any cell. More information can be found at http://ipython.org/notebook.html\n",
    "\n",
    "# Creating your own IPython Notebook\n",
    "\n",
    "To get started with Feature Factory, please clone the Template notebook. To do this, click \"File\"->\"Make a Copy\". This should spawn a new tab within your browser with the copied notebook. Rename the notebook to your liking and make all edits on that notebook.\n",
    "\n",
    "&nbsp;\n",
    "&nbsp;\n",
    "\n",
    "\n",
    "# Mutagenesis Machine Learning Competition\n",
    "\n",
    "## Problem Statement\n",
    "\n",
    "Mutagenesis is a well-known benchmark machine learning dataset. It comprises 230 molecules trialled for mutagenicity on Salmonella typhimurium. Debnath et al., [2] showed that a subset of 188 molecules are learnable using linear regression. This subset was later termed the ”regression friendly” dataset. The remaining 42 molecules is named the ”regression unfriendly” subset.\n",
    "\n",
    "Despite the low intrinsic interest from a machine learning perspective, authors have historically concentrated on the set of 188 molecules (hereafter referred to as the mutagenesis dataset). Of the 188 molecules 125 have positive log mutagenicity whereas 63 molecules have zero or negative log mutagenicity. The molecules with positive log mutagenicity are labelled active and the remaining are labelled inactive. In this way predicting mutagenicity for the molecules is a binary categorization problem.\n",
    "\n",
    "Debanth et al., indicated two chemical features and two indicator features for effective learning. The chemical (C) features are lowest unoccupied molecule orbital (LUMO), water/octanol partition coefficient (LOGP) whereas the other two features are pre-coded structural (PS) attributes.\n",
    "\n",
    "Srinivasan et al., [1] encoded structural features of the molecules using first-order logic. The key information is given in the form of atom and bond (AB) description. Atom and bond description is used to define functional groups (FG) including methyl groups, nitro groups, aromatic rings, hetero-aromatic rings, connected rings, ring length and benzene rings.\n",
    "\n",
    "In this competition, you are challenged to work with this dataset and attempt to identify and derive or generate the features which would help the most in predicting whether a particular molecule will be active or inactive.\n",
    "\n",
    "1. Srinivasan, A., Muggleton, S.H., King, R., Sternberg, M.: Theories for mutagenicity: a study of first-order and feature based induction. Artifical Intelligence 85 (1996) 277–299\n",
    "\n",
    "2. Debnath, A.K., de Compadre, R.L.L., Debnath, G., Schusterman, A.J., Hansch, C.: Structure-activity relationship of mutagenic aromatic and heteroaromatics nitro compounds. correlation with molecular orbital energies and hydrophobicity. Journal of Medicinal Chemistry 34 (1991) 786–797\n",
    "\n",
    "\n",
    "## Data\n",
    "\n",
    "The dataset is in a relational format, split among mutliple files. When using **commands.get_sample_dataset()** to retrieve the dataset, the files are provided as a list of *pandas.DataFrame* objects with the following columns:\n",
    "\n",
    "![Mutagenic Data Model](https://relational.fit.cvut.cz/assets/img/datasets-generated/mutagenesis.svg)"
   ]
  },
  {
   "cell_type": "markdown",
   "metadata": {},
   "source": [
    "## Step-by-Step Example\n",
    "\n",
    "Step 1: Import the feature factory infrastructure"
   ]
  },
  {
   "cell_type": "code",
   "execution_count": 1,
   "metadata": {
    "collapsed": false
   },
   "outputs": [],
   "source": [
    "from problems.mutagenesis import commands"
   ]
  },
  {
   "cell_type": "markdown",
   "metadata": {},
   "source": [
    "&nbsp;\n",
    "&nbsp;\n",
    "\n",
    "Step 2: Create a username/password or login into an existing account. If you create an account and it is successful, you don't need to login - you are logged in automatically. "
   ]
  },
  {
   "cell_type": "code",
   "execution_count": 2,
   "metadata": {
    "collapsed": false
   },
   "outputs": [
    {
     "name": "stdout",
     "output_type": "stream",
     "text": [
      "username already exists\n"
     ]
    }
   ],
   "source": [
    "commands.create_user('stair_2', '')"
   ]
  },
  {
   "cell_type": "code",
   "execution_count": 4,
   "metadata": {
    "collapsed": false
   },
   "outputs": [
    {
     "name": "stdout",
     "output_type": "stream",
     "text": [
      "user successfully logged in\n"
     ]
    }
   ],
   "source": [
    "commands.login('stair_2', '')"
   ]
  },
  {
   "cell_type": "markdown",
   "metadata": {},
   "source": [
    "&nbsp;\n",
    "&nbsp;\n",
    "\n",
    "Step 3: To ensure that this notebook is mapped to your username, it is required that you execute the command below. "
   ]
  },
  {
   "cell_type": "code",
   "execution_count": 5,
   "metadata": {
    "collapsed": false
   },
   "outputs": [
    {
     "name": "stdout",
     "output_type": "stream",
     "text": [
      "Notebook already registered\n"
     ]
    }
   ],
   "source": [
    "commands.add_notebook('Mutagenesis_stair_2')"
   ]
  },
  {
   "cell_type": "markdown",
   "metadata": {},
   "source": [
    "&nbsp;\n",
    "&nbsp;\n",
    "\n",
    "Step 4: Get a sample dataset. This will allow you to test your feature before running it on the full data in the server. Remember that the dataset as a list of [Pandas DataFrames](http://pandas.pydata.org/pandas-docs/stable/generated/pandas.DataFrame.html)."
   ]
  },
  {
   "cell_type": "code",
   "execution_count": 6,
   "metadata": {
    "collapsed": false
   },
   "outputs": [],
   "source": [
    "dataset = commands.get_sample_dataset()\n",
    "# dataset[0] <- this refers to the molecule data\n",
    "# dataset[1] <- this refers to the atom data\n",
    "# dataset[2] <- this refers to the bond data"
   ]
  },
  {
   "cell_type": "code",
   "execution_count": 7,
   "metadata": {
    "collapsed": false
   },
   "outputs": [
    {
     "data": {
      "text/html": [
       "<div>\n",
       "<table border=\"1\" class=\"dataframe\">\n",
       "  <thead>\n",
       "    <tr style=\"text-align: right;\">\n",
       "      <th></th>\n",
       "      <th>molecule_id</th>\n",
       "      <th>ind1</th>\n",
       "      <th>inda</th>\n",
       "      <th>logp</th>\n",
       "      <th>lumo</th>\n",
       "    </tr>\n",
       "  </thead>\n",
       "  <tbody>\n",
       "    <tr>\n",
       "      <th>0</th>\n",
       "      <td>d100</td>\n",
       "      <td>0</td>\n",
       "      <td>0</td>\n",
       "      <td>2.68</td>\n",
       "      <td>-1.034</td>\n",
       "    </tr>\n",
       "    <tr>\n",
       "      <th>1</th>\n",
       "      <td>d101</td>\n",
       "      <td>1</td>\n",
       "      <td>0</td>\n",
       "      <td>6.26</td>\n",
       "      <td>-1.598</td>\n",
       "    </tr>\n",
       "    <tr>\n",
       "      <th>2</th>\n",
       "      <td>d103</td>\n",
       "      <td>1</td>\n",
       "      <td>0</td>\n",
       "      <td>4.69</td>\n",
       "      <td>-1.487</td>\n",
       "    </tr>\n",
       "    <tr>\n",
       "      <th>3</th>\n",
       "      <td>d105</td>\n",
       "      <td>1</td>\n",
       "      <td>0</td>\n",
       "      <td>1.84</td>\n",
       "      <td>-1.749</td>\n",
       "    </tr>\n",
       "    <tr>\n",
       "      <th>4</th>\n",
       "      <td>d106</td>\n",
       "      <td>1</td>\n",
       "      <td>0</td>\n",
       "      <td>4.34</td>\n",
       "      <td>-1.607</td>\n",
       "    </tr>\n",
       "  </tbody>\n",
       "</table>\n",
       "</div>"
      ],
      "text/plain": [
       "  molecule_id  ind1  inda  logp   lumo\n",
       "0        d100     0     0  2.68 -1.034\n",
       "1        d101     1     0  6.26 -1.598\n",
       "2        d103     1     0  4.69 -1.487\n",
       "3        d105     1     0  1.84 -1.749\n",
       "4        d106     1     0  4.34 -1.607"
      ]
     },
     "execution_count": 7,
     "metadata": {},
     "output_type": "execute_result"
    }
   ],
   "source": [
    "dataset[0][:5]"
   ]
  },
  {
   "cell_type": "code",
   "execution_count": 8,
   "metadata": {
    "collapsed": false
   },
   "outputs": [
    {
     "data": {
      "text/html": [
       "<div>\n",
       "<table border=\"1\" class=\"dataframe\">\n",
       "  <thead>\n",
       "    <tr style=\"text-align: right;\">\n",
       "      <th></th>\n",
       "      <th>atom_id</th>\n",
       "      <th>molecule_id</th>\n",
       "      <th>element</th>\n",
       "      <th>type</th>\n",
       "      <th>charge</th>\n",
       "    </tr>\n",
       "  </thead>\n",
       "  <tbody>\n",
       "    <tr>\n",
       "      <th>0</th>\n",
       "      <td>d100_1</td>\n",
       "      <td>d100</td>\n",
       "      <td>c</td>\n",
       "      <td>22</td>\n",
       "      <td>-0.128</td>\n",
       "    </tr>\n",
       "    <tr>\n",
       "      <th>1</th>\n",
       "      <td>d100_10</td>\n",
       "      <td>d100</td>\n",
       "      <td>h</td>\n",
       "      <td>3</td>\n",
       "      <td>0.132</td>\n",
       "    </tr>\n",
       "    <tr>\n",
       "      <th>2</th>\n",
       "      <td>d100_11</td>\n",
       "      <td>d100</td>\n",
       "      <td>c</td>\n",
       "      <td>29</td>\n",
       "      <td>0.002</td>\n",
       "    </tr>\n",
       "    <tr>\n",
       "      <th>3</th>\n",
       "      <td>d100_12</td>\n",
       "      <td>d100</td>\n",
       "      <td>c</td>\n",
       "      <td>22</td>\n",
       "      <td>-0.128</td>\n",
       "    </tr>\n",
       "    <tr>\n",
       "      <th>4</th>\n",
       "      <td>d100_13</td>\n",
       "      <td>d100</td>\n",
       "      <td>c</td>\n",
       "      <td>22</td>\n",
       "      <td>-0.128</td>\n",
       "    </tr>\n",
       "  </tbody>\n",
       "</table>\n",
       "</div>"
      ],
      "text/plain": [
       "   atom_id molecule_id element  type  charge\n",
       "0   d100_1        d100       c    22  -0.128\n",
       "1  d100_10        d100       h     3   0.132\n",
       "2  d100_11        d100       c    29   0.002\n",
       "3  d100_12        d100       c    22  -0.128\n",
       "4  d100_13        d100       c    22  -0.128"
      ]
     },
     "execution_count": 8,
     "metadata": {},
     "output_type": "execute_result"
    }
   ],
   "source": [
    "dataset[1][:5]"
   ]
  },
  {
   "cell_type": "code",
   "execution_count": 9,
   "metadata": {
    "collapsed": false
   },
   "outputs": [
    {
     "data": {
      "text/html": [
       "<div>\n",
       "<table border=\"1\" class=\"dataframe\">\n",
       "  <thead>\n",
       "    <tr style=\"text-align: right;\">\n",
       "      <th></th>\n",
       "      <th>atom1_id</th>\n",
       "      <th>atom2_id</th>\n",
       "      <th>type</th>\n",
       "    </tr>\n",
       "  </thead>\n",
       "  <tbody>\n",
       "    <tr>\n",
       "      <th>0</th>\n",
       "      <td>d100_1</td>\n",
       "      <td>d100_2</td>\n",
       "      <td>7</td>\n",
       "    </tr>\n",
       "    <tr>\n",
       "      <th>1</th>\n",
       "      <td>d100_1</td>\n",
       "      <td>d100_7</td>\n",
       "      <td>1</td>\n",
       "    </tr>\n",
       "    <tr>\n",
       "      <th>2</th>\n",
       "      <td>d100_11</td>\n",
       "      <td>d100_12</td>\n",
       "      <td>7</td>\n",
       "    </tr>\n",
       "    <tr>\n",
       "      <th>3</th>\n",
       "      <td>d100_12</td>\n",
       "      <td>d100_13</td>\n",
       "      <td>7</td>\n",
       "    </tr>\n",
       "    <tr>\n",
       "      <th>4</th>\n",
       "      <td>d100_12</td>\n",
       "      <td>d100_17</td>\n",
       "      <td>1</td>\n",
       "    </tr>\n",
       "  </tbody>\n",
       "</table>\n",
       "</div>"
      ],
      "text/plain": [
       "  atom1_id atom2_id  type\n",
       "0   d100_1   d100_2     7\n",
       "1   d100_1   d100_7     1\n",
       "2  d100_11  d100_12     7\n",
       "3  d100_12  d100_13     7\n",
       "4  d100_12  d100_17     1"
      ]
     },
     "execution_count": 9,
     "metadata": {},
     "output_type": "execute_result"
    }
   ],
   "source": [
    "dataset[2][:5]"
   ]
  },
  {
   "cell_type": "markdown",
   "metadata": {},
   "source": [
    "&nbsp;\n",
    "&nbsp;\n",
    "\n",
    "Step 5: Define your feature extraction function.\n",
    "\n",
    "The name you give to the function is the name which will be used later on to register your feature extaction function and the score which it obtains.\n",
    "\n",
    "Your function should simply take in the dataset list as a parameter and output a N x M numpy matrix or pandas dataframe where N is number of molecules, one row per molecules, and M is the number of features which will be used for the prediction.\n",
    "Bear in mind that sorting is important and that, in order to properly evaluate your function score, the extracted features should preserve the order of the molecules table.\n",
    "\n",
    "Also note that, even though the system allows you to do so, any feature extraction function which makes use of the outcome column will be disqualified.\n",
    "\n",
    "**WARNING:** Your functions have to be self contained!\n",
    "\n",
    "This means that you can use helper functions or import external modules but that any import or variable definition needs to be made within the functions which use them.\n",
    "\n",
    "Cross validation is (intentionally) run in a separated process in order to make sure that this scope pattern is preserved, and will fail if the function uses anything defined somewhere else in the notebook.\n",
    "\n",
    "You might be wondering why we require this. The reason is that the code of your function might be executed and further evaluated in different environments where the variables and modules defined in your notebook will not be available."
   ]
  },
  {
   "cell_type": "code",
   "execution_count": 17,
   "metadata": {
    "collapsed": false
   },
   "outputs": [],
   "source": [
    "def Mutagenesis_Feature_Extractor_stair_2(dataset):\n",
    "    import pandas as pd\n",
    "    from sklearn.preprocessing import OneHotEncoder, LabelEncoder\n",
    "    from sklearn.decomposition import PCA\n",
    "\n",
    "    # mar = Moecule-Atom Relations\n",
    "    mar = pd.concat([dataset[1]['molecule_id'], \n",
    "                    dataset[1].drop(['molecule_id'], axis=1)], axis=1)\n",
    "    mar = mar.rename(index=str, columns={'type': 'mtype', 'charge': 'mcharge'})\n",
    "    mar = mar.merge(dataset[2], how='outer', left_on='atom_id', right_on='atom1_id')\\\n",
    "            .drop(['atom1_id'], axis=1)\n",
    "    mar['atom2_id'] = mar['atom2_id'].fillna('Nan')  \n",
    "    mar['type'] = mar['type'].fillna(0)  \n",
    "\n",
    "    le = LabelEncoder()\n",
    "    mar['atom_id'] = le.fit_transform(mar['atom_id'])\n",
    "    mar['element'] = le.fit_transform(mar['element'])\n",
    "    mar['atom2_id'] = le.fit_transform(mar['atom2_id'])\n",
    "\n",
    "    enc = OneHotEncoder(sparse=False)\n",
    "    mar = pd.concat([ mar['molecule_id'] , pd.DataFrame(\n",
    "                enc.fit_transform(mar.drop(['molecule_id', 'mcharge'], axis=1).as_matrix()))],\\\n",
    "              axis=1)\n",
    "        \n",
    "    mar = mar.groupby(['molecule_id'], as_index=False).sum()\n",
    "    features = dataset[0].merge(mar, how='inner', on='molecule_id')\n",
    "    X = features.drop(['molecule_id'], axis=1)\n",
    "\n",
    "    return X"
   ]
  },
  {
   "cell_type": "markdown",
   "metadata": {},
   "source": [
    "&nbsp;\n",
    "&nbsp;\n",
    "\n",
    "Step 6: Evaluate the score of your feature extraction function before submitting it.\n",
    "\n",
    "You can make use of the cross_validate command as many times a needed in order to have a preview of what the score of your function will be."
   ]
  },
  {
   "cell_type": "code",
   "execution_count": 19,
   "metadata": {
    "collapsed": false
   },
   "outputs": [
    {
     "name": "stdout",
     "output_type": "stream",
     "text": [
      "Obtaining dataset\n",
      "Extracting features\n",
      "Cross validating\n"
     ]
    },
    {
     "data": {
      "text/plain": [
       "0.87599206349206338"
      ]
     },
     "execution_count": 19,
     "metadata": {},
     "output_type": "execute_result"
    }
   ],
   "source": [
    "#X = Mutagenesis_Feature_Extractor_stair_2(dataset)\n",
    "#X.shape\n",
    "commands.cross_validate(Mutagenesis_Feature_Extractor_stair_2)"
   ]
  },
  {
   "cell_type": "markdown",
   "metadata": {},
   "source": [
    "&nbsp;\n",
    "&nbsp;\n",
    "\n",
    "Step 7: Register your function in the system\n",
    "\n",
    "Once you are satisfied with the results, you can call the add_feature command passing your function as an argument.\n",
    "This will cross_validate the function again and store your code and your score for future analysis.\n",
    "\n",
    "Again, remember that your function code must be self contained and import or define everything it needs to be run successfully."
   ]
  },
  {
   "cell_type": "code",
   "execution_count": 20,
   "metadata": {
    "collapsed": false,
    "scrolled": true
   },
   "outputs": [
    {
     "name": "stdout",
     "output_type": "stream",
     "text": [
      "Obtaining dataset\n",
      "Extracting features\n",
      "Cross validating\n",
      "Your feature Mutagenesis_Feature_Extractor_stair_2 scored 0.8759920634920634\n",
      "Feature Mutagenesis_Feature_Extractor_stair_2 successfully registered\n"
     ]
    }
   ],
   "source": [
    "commands.add_feature(Mutagenesis_Feature_Extractor_stair_2)"
   ]
  },
  {
   "cell_type": "markdown",
   "metadata": {},
   "source": [
    "&nbsp;\n",
    "&nbsp;\n",
    "\n",
    "Step 8: (Optional) Modify and update your function code.\n",
    "\n",
    "If you discover that your function can be improved you can add it again into the system as many times as required with the same function name.\n",
    "\n",
    "However, for improved clarity, we recommend you to use this option only to fix problems or make small improvements within a similar approach.\n",
    "\n",
    "So, in case you want start a different feature extraction strategy, we strongly recommend you to register it with a new name."
   ]
  },
  {
   "cell_type": "code",
   "execution_count": 10,
   "metadata": {
    "collapsed": false
   },
   "outputs": [
    {
     "name": "stdout",
     "output_type": "stream",
     "text": [
      "Obtaining dataset\n",
      "Extracting features\n",
      "Cross validating\n",
      "Your feature example_feature scored 0.8895975056689341\n",
      "Feature example_feature successfully registered\n"
     ]
    }
   ],
   "source": [
    "def imports():    # We need to import pandas within our functions\n",
    "    global np\n",
    "    import numpy as np\n",
    "\n",
    "def compute_log(feature):\n",
    "    \"\"\"Compute log of the given column.\"\"\"\n",
    "    return np.log(feature)\n",
    "    \n",
    "def example_feature(dataset):\n",
    "    imports()\n",
    "    \n",
    "    df = dataset[0][['lumo', 'ind1']].copy()\n",
    "    df['log'] = compute_log(-df['lumo'])\n",
    "    return df\n",
    "\n",
    "commands.add_feature(example_feature)"
   ]
  },
  {
   "cell_type": "code",
   "execution_count": null,
   "metadata": {
    "collapsed": true
   },
   "outputs": [],
   "source": []
  }
 ],
 "metadata": {
  "kernelspec": {
   "display_name": "Python 3",
   "language": "python",
   "name": "python3"
  },
  "language_info": {
   "codemirror_mode": {
    "name": "ipython",
    "version": 3
   },
   "file_extension": ".py",
   "mimetype": "text/x-python",
   "name": "python",
   "nbconvert_exporter": "python",
   "pygments_lexer": "ipython3",
   "version": "3.5.1"
  },
  "widgets": {
   "state": {},
   "version": "1.1.1"
  }
 },
 "nbformat": 4,
 "nbformat_minor": 0
}
